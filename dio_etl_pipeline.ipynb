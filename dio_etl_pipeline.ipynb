{
  "nbformat": 4,
  "nbformat_minor": 0,
  "metadata": {
    "colab": {
      "provenance": []
    },
    "kernelspec": {
      "name": "python3",
      "display_name": "Python 3"
    },
    "language_info": {
      "name": "python"
    }
  },
  "cells": [
    {
      "cell_type": "code",
      "execution_count": 68,
      "metadata": {
        "id": "EstvprxiyBB0"
      },
      "outputs": [],
      "source": [
        "import sqlite3\n",
        "import requests"
      ]
    },
    {
      "cell_type": "code",
      "source": [
        "poke_ai_url = 'https://pokeapi.co/api/v2/'\n",
        "endpoints = {\n",
        "    'pokemon': \"pokemon/{0}/\"\n",
        "}\n",
        "\n",
        "sdw2023_api_url = 'https://sdw-2023-prd.up.railway.app'"
      ],
      "metadata": {
        "id": "pwCVqAW5zn4W"
      },
      "execution_count": 87,
      "outputs": []
    },
    {
      "cell_type": "code",
      "source": [
        "print(endpoints['pokemon'].format(*['1']))"
      ],
      "metadata": {
        "colab": {
          "base_uri": "https://localhost:8080/"
        },
        "id": "zavzUUDpz9nt",
        "outputId": "daeb8ac6-0117-480f-aa1f-38ede096f4bd"
      },
      "execution_count": 70,
      "outputs": [
        {
          "output_type": "stream",
          "name": "stdout",
          "text": [
            "pokemon/1/\n"
          ]
        }
      ]
    },
    {
      "cell_type": "code",
      "source": [
        "def endpoint_request(endpoint: str, params: list):\n",
        "  response = requests.get(f\"{poke_ai_url}{endpoints[endpoint]}\".format(*params))\n",
        "  print(response.status_code)\n",
        "  return response"
      ],
      "metadata": {
        "id": "mIDdyyUu0HJe"
      },
      "execution_count": 71,
      "outputs": []
    },
    {
      "cell_type": "code",
      "source": [
        "pokemons = [\n",
        "    (\n",
        "        pokemon_response.json().get('id')+50000,\n",
        "        pokemon_response.json().get('name'),\n",
        "        [stat['base_stat'] for stat in pokemon_response.json().get('stats') if (stat_info := stat['stat'])['name'] in ['hp', 'attack']]\n",
        "    )\n",
        "    for i in range(1,10)\n",
        "    if (pokemon_response := endpoint_request('pokemon',*[str(i)])).status_code == 200\n",
        "]"
      ],
      "metadata": {
        "colab": {
          "base_uri": "https://localhost:8080/"
        },
        "id": "1AL_yjG93rs4",
        "outputId": "541bd0b7-939c-4a12-88b2-18292dd1eba9"
      },
      "execution_count": 197,
      "outputs": [
        {
          "output_type": "stream",
          "name": "stdout",
          "text": [
            "200\n",
            "200\n",
            "200\n",
            "200\n",
            "200\n",
            "200\n",
            "200\n",
            "200\n",
            "200\n"
          ]
        }
      ]
    },
    {
      "cell_type": "code",
      "source": [
        "print(pokemons)"
      ],
      "metadata": {
        "colab": {
          "base_uri": "https://localhost:8080/"
        },
        "id": "UNh7OysK4F07",
        "outputId": "90e6c09e-cad6-45d7-a589-e8c04b23bf94"
      },
      "execution_count": 198,
      "outputs": [
        {
          "output_type": "stream",
          "name": "stdout",
          "text": [
            "[(50001, 'bulbasaur', [45, 49]), (50002, 'ivysaur', [60, 62]), (50003, 'venusaur', [80, 82]), (50004, 'charmander', [39, 52]), (50005, 'charmeleon', [58, 64]), (50006, 'charizard', [78, 84]), (50007, 'squirtle', [44, 48]), (50008, 'wartortle', [59, 63]), (50009, 'blastoise', [79, 83])]\n"
          ]
        }
      ]
    },
    {
      "cell_type": "code",
      "source": [
        "pokemon_stats = [(id,name,*stats) for id,name,stats in pokemons]"
      ],
      "metadata": {
        "id": "sDLh5X1OdRYB"
      },
      "execution_count": 201,
      "outputs": []
    },
    {
      "cell_type": "code",
      "source": [
        "inserted_pokemons = ', '.join([str(pokemon) for pokemon in pokemon_stats])"
      ],
      "metadata": {
        "id": "xdqJ4ny-8IWe"
      },
      "execution_count": 244,
      "outputs": []
    },
    {
      "cell_type": "code",
      "source": [
        "print(inserted_pokemons)"
      ],
      "metadata": {
        "colab": {
          "base_uri": "https://localhost:8080/"
        },
        "id": "ARtjIIhVgAyA",
        "outputId": "24695e55-d668-4e1d-cca9-9b6d6d959d8d"
      },
      "execution_count": 203,
      "outputs": [
        {
          "output_type": "stream",
          "name": "stdout",
          "text": [
            "(50001, 'bulbasaur', 45, 49), (50002, 'ivysaur', 60, 62), (50003, 'venusaur', 80, 82), (50004, 'charmander', 39, 52), (50005, 'charmeleon', 58, 64), (50006, 'charizard', 78, 84), (50007, 'squirtle', 44, 48), (50008, 'wartortle', 59, 63), (50009, 'blastoise', 79, 83)\n"
          ]
        }
      ]
    },
    {
      "cell_type": "code",
      "source": [
        "conn = sqlite3.connect('pokemons.db')"
      ],
      "metadata": {
        "id": "vphIMVu7fWDO"
      },
      "execution_count": 204,
      "outputs": []
    },
    {
      "cell_type": "code",
      "source": [
        "cur = conn.cursor()"
      ],
      "metadata": {
        "id": "1UyJJ0Vdy-Bb"
      },
      "execution_count": 205,
      "outputs": []
    },
    {
      "cell_type": "code",
      "source": [
        "cur.execute('''\n",
        "  create table pokemons (\n",
        "    id int not null,\n",
        "    name string not null,\n",
        "    hp int not null,\n",
        "    attack int not null,\n",
        "    primary key (id)\n",
        "  )\n",
        "  '''\n",
        ")"
      ],
      "metadata": {
        "colab": {
          "base_uri": "https://localhost:8080/"
        },
        "id": "UpltmUj56j0d",
        "outputId": "44065449-22e2-4773-b627-6b96ddd17c6c"
      },
      "execution_count": 206,
      "outputs": [
        {
          "output_type": "execute_result",
          "data": {
            "text/plain": [
              "<sqlite3.Cursor at 0x7c4d8b8cf9c0>"
            ]
          },
          "metadata": {},
          "execution_count": 206
        }
      ]
    },
    {
      "cell_type": "code",
      "source": [
        "sql_insert = f\"\"\"\n",
        "INSERT INTO pokemons (id,name,hp,attack)\n",
        "VALUES\n",
        "   {inserted_pokemons};\n",
        "\"\"\""
      ],
      "metadata": {
        "id": "UcFxflSm7xbA"
      },
      "execution_count": 236,
      "outputs": []
    },
    {
      "cell_type": "code",
      "source": [
        "print(sql_insert)"
      ],
      "metadata": {
        "colab": {
          "base_uri": "https://localhost:8080/"
        },
        "id": "xFwBNIJZ92un",
        "outputId": "03406e3d-54a6-4e5b-c545-425d009e4efa"
      },
      "execution_count": 208,
      "outputs": [
        {
          "output_type": "stream",
          "name": "stdout",
          "text": [
            "\n",
            "INSERT INTO pokemons (id,name,hp,attack)\n",
            "VALUES\n",
            "   (50001, 'bulbasaur', 45, 49), (50002, 'ivysaur', 60, 62), (50003, 'venusaur', 80, 82), (50004, 'charmander', 39, 52), (50005, 'charmeleon', 58, 64), (50006, 'charizard', 78, 84), (50007, 'squirtle', 44, 48), (50008, 'wartortle', 59, 63), (50009, 'blastoise', 79, 83);\n",
            "\n"
          ]
        }
      ]
    },
    {
      "cell_type": "code",
      "source": [
        "cur.execute(sql_insert)"
      ],
      "metadata": {
        "colab": {
          "base_uri": "https://localhost:8080/"
        },
        "id": "kunIrT0Q7rKW",
        "outputId": "2a530fe9-fb56-4058-d964-d5ae33b38c6f"
      },
      "execution_count": 209,
      "outputs": [
        {
          "output_type": "execute_result",
          "data": {
            "text/plain": [
              "<sqlite3.Cursor at 0x7c4d8b8cf9c0>"
            ]
          },
          "metadata": {},
          "execution_count": 209
        }
      ]
    },
    {
      "cell_type": "code",
      "source": [
        "conn.commit()"
      ],
      "metadata": {
        "id": "RaLOtKhg9_O6"
      },
      "execution_count": 210,
      "outputs": []
    },
    {
      "cell_type": "code",
      "source": [
        "[row for row in cur.execute('select * from pokemons')]"
      ],
      "metadata": {
        "colab": {
          "base_uri": "https://localhost:8080/"
        },
        "id": "XBAHRbnUgY3j",
        "outputId": "f494927d-a9f2-4157-a279-654bf390feee"
      },
      "execution_count": 211,
      "outputs": [
        {
          "output_type": "execute_result",
          "data": {
            "text/plain": [
              "[(50001, 'bulbasaur', 45, 49),\n",
              " (50002, 'ivysaur', 60, 62),\n",
              " (50003, 'venusaur', 80, 82),\n",
              " (50004, 'charmander', 39, 52),\n",
              " (50005, 'charmeleon', 58, 64),\n",
              " (50006, 'charizard', 78, 84),\n",
              " (50007, 'squirtle', 44, 48),\n",
              " (50008, 'wartortle', 59, 63),\n",
              " (50009, 'blastoise', 79, 83)]"
            ]
          },
          "metadata": {},
          "execution_count": 211
        }
      ]
    },
    {
      "cell_type": "markdown",
      "source": [
        "## **Inserir pokemons**\n",
        "\n",
        "Adiciona os pokemons na API"
      ],
      "metadata": {
        "id": "RP8ygxmXkR0U"
      }
    },
    {
      "cell_type": "code",
      "source": [
        "poke_stats_request = [\n",
        "    {\n",
        "        'id':0,\n",
        "        'name':row[1],\n",
        "        'account': {\n",
        "            'id':0,\n",
        "            'number': f\"{str(row[0])}_{row[1]}\",\n",
        "            'agency': f\"{str(row[0])}_{row[1]}\",\n",
        "            'balance': row[2],\n",
        "            'limit': row[3],\n",
        "        },\n",
        "        \"card\": {\n",
        "          \"id\": 0,\n",
        "          'number': f\"{str(row[0])}_{row[1]}\",\n",
        "          \"limit\": row[3]\n",
        "        },\n",
        "        'features': [],\n",
        "        'news': [],\n",
        "    }\n",
        "    for row in cur.execute('select * from pokemons')\n",
        "]"
      ],
      "metadata": {
        "id": "-hS9vQZelf0e"
      },
      "execution_count": 227,
      "outputs": []
    },
    {
      "cell_type": "code",
      "source": [
        "print(poke_stats_request)"
      ],
      "metadata": {
        "colab": {
          "base_uri": "https://localhost:8080/"
        },
        "id": "FmcUsC0snT_D",
        "outputId": "2c952cf0-b6ef-462e-9849-b5e0ab894df8"
      },
      "execution_count": 228,
      "outputs": [
        {
          "output_type": "stream",
          "name": "stdout",
          "text": [
            "[{'id': 0, 'name': 'bulbasaur', 'account': {'id': 0, 'number': '50001_bulbasaur', 'agency': '50001_bulbasaur', 'balance': 45, 'limit': 49}, 'card': {'id': 0, 'number': '50001_bulbasaur', 'limit': 49}, 'features': [], 'news': []}, {'id': 0, 'name': 'ivysaur', 'account': {'id': 0, 'number': '50002_ivysaur', 'agency': '50002_ivysaur', 'balance': 60, 'limit': 62}, 'card': {'id': 0, 'number': '50002_ivysaur', 'limit': 62}, 'features': [], 'news': []}, {'id': 0, 'name': 'venusaur', 'account': {'id': 0, 'number': '50003_venusaur', 'agency': '50003_venusaur', 'balance': 80, 'limit': 82}, 'card': {'id': 0, 'number': '50003_venusaur', 'limit': 82}, 'features': [], 'news': []}, {'id': 0, 'name': 'charmander', 'account': {'id': 0, 'number': '50004_charmander', 'agency': '50004_charmander', 'balance': 39, 'limit': 52}, 'card': {'id': 0, 'number': '50004_charmander', 'limit': 52}, 'features': [], 'news': []}, {'id': 0, 'name': 'charmeleon', 'account': {'id': 0, 'number': '50005_charmeleon', 'agency': '50005_charmeleon', 'balance': 58, 'limit': 64}, 'card': {'id': 0, 'number': '50005_charmeleon', 'limit': 64}, 'features': [], 'news': []}, {'id': 0, 'name': 'charizard', 'account': {'id': 0, 'number': '50006_charizard', 'agency': '50006_charizard', 'balance': 78, 'limit': 84}, 'card': {'id': 0, 'number': '50006_charizard', 'limit': 84}, 'features': [], 'news': []}, {'id': 0, 'name': 'squirtle', 'account': {'id': 0, 'number': '50007_squirtle', 'agency': '50007_squirtle', 'balance': 44, 'limit': 48}, 'card': {'id': 0, 'number': '50007_squirtle', 'limit': 48}, 'features': [], 'news': []}, {'id': 0, 'name': 'wartortle', 'account': {'id': 0, 'number': '50008_wartortle', 'agency': '50008_wartortle', 'balance': 59, 'limit': 63}, 'card': {'id': 0, 'number': '50008_wartortle', 'limit': 63}, 'features': [], 'news': []}, {'id': 0, 'name': 'blastoise', 'account': {'id': 0, 'number': '50009_blastoise', 'agency': '50009_blastoise', 'balance': 79, 'limit': 83}, 'card': {'id': 0, 'number': '50009_blastoise', 'limit': 83}, 'features': [], 'news': []}]\n"
          ]
        }
      ]
    },
    {
      "cell_type": "code",
      "source": [
        "creation_responses = [\n",
        "    requests.post(\n",
        "      f\"{sdw2023_api_url}/users\",\n",
        "      headers={'accept':'*/*','Content-Type':'application/json'},\n",
        "      data=json.dumps(item)\n",
        "    )\n",
        "    for item in poke_stats_request\n",
        "]"
      ],
      "metadata": {
        "id": "j_j7cJ7-hexf"
      },
      "execution_count": 287,
      "outputs": []
    },
    {
      "cell_type": "code",
      "source": [
        "[\n",
        "    json.dumps(item)\n",
        "    for item in poke_stats_request\n",
        "]"
      ],
      "metadata": {
        "colab": {
          "base_uri": "https://localhost:8080/"
        },
        "id": "AiQyAq3q40-X",
        "outputId": "2dc34419-c4d4-42bf-9b31-35a11f9172de"
      },
      "execution_count": 230,
      "outputs": [
        {
          "output_type": "execute_result",
          "data": {
            "text/plain": [
              "['{\"id\": 0, \"name\": \"bulbasaur\", \"account\": {\"id\": 0, \"number\": \"50001_bulbasaur\", \"agency\": \"50001_bulbasaur\", \"balance\": 45, \"limit\": 49}, \"card\": {\"id\": 0, \"number\": \"50001_bulbasaur\", \"limit\": 49}, \"features\": [], \"news\": []}',\n",
              " '{\"id\": 0, \"name\": \"ivysaur\", \"account\": {\"id\": 0, \"number\": \"50002_ivysaur\", \"agency\": \"50002_ivysaur\", \"balance\": 60, \"limit\": 62}, \"card\": {\"id\": 0, \"number\": \"50002_ivysaur\", \"limit\": 62}, \"features\": [], \"news\": []}',\n",
              " '{\"id\": 0, \"name\": \"venusaur\", \"account\": {\"id\": 0, \"number\": \"50003_venusaur\", \"agency\": \"50003_venusaur\", \"balance\": 80, \"limit\": 82}, \"card\": {\"id\": 0, \"number\": \"50003_venusaur\", \"limit\": 82}, \"features\": [], \"news\": []}',\n",
              " '{\"id\": 0, \"name\": \"charmander\", \"account\": {\"id\": 0, \"number\": \"50004_charmander\", \"agency\": \"50004_charmander\", \"balance\": 39, \"limit\": 52}, \"card\": {\"id\": 0, \"number\": \"50004_charmander\", \"limit\": 52}, \"features\": [], \"news\": []}',\n",
              " '{\"id\": 0, \"name\": \"charmeleon\", \"account\": {\"id\": 0, \"number\": \"50005_charmeleon\", \"agency\": \"50005_charmeleon\", \"balance\": 58, \"limit\": 64}, \"card\": {\"id\": 0, \"number\": \"50005_charmeleon\", \"limit\": 64}, \"features\": [], \"news\": []}',\n",
              " '{\"id\": 0, \"name\": \"charizard\", \"account\": {\"id\": 0, \"number\": \"50006_charizard\", \"agency\": \"50006_charizard\", \"balance\": 78, \"limit\": 84}, \"card\": {\"id\": 0, \"number\": \"50006_charizard\", \"limit\": 84}, \"features\": [], \"news\": []}',\n",
              " '{\"id\": 0, \"name\": \"squirtle\", \"account\": {\"id\": 0, \"number\": \"50007_squirtle\", \"agency\": \"50007_squirtle\", \"balance\": 44, \"limit\": 48}, \"card\": {\"id\": 0, \"number\": \"50007_squirtle\", \"limit\": 48}, \"features\": [], \"news\": []}',\n",
              " '{\"id\": 0, \"name\": \"wartortle\", \"account\": {\"id\": 0, \"number\": \"50008_wartortle\", \"agency\": \"50008_wartortle\", \"balance\": 59, \"limit\": 63}, \"card\": {\"id\": 0, \"number\": \"50008_wartortle\", \"limit\": 63}, \"features\": [], \"news\": []}',\n",
              " '{\"id\": 0, \"name\": \"blastoise\", \"account\": {\"id\": 0, \"number\": \"50009_blastoise\", \"agency\": \"50009_blastoise\", \"balance\": 79, \"limit\": 83}, \"card\": {\"id\": 0, \"number\": \"50009_blastoise\", \"limit\": 83}, \"features\": [], \"news\": []}']"
            ]
          },
          "metadata": {},
          "execution_count": 230
        }
      ]
    },
    {
      "cell_type": "code",
      "source": [
        "[i.text for i in creation_responses]"
      ],
      "metadata": {
        "colab": {
          "base_uri": "https://localhost:8080/"
        },
        "id": "uzM4_480qTCA",
        "outputId": "5f3eb3f4-7fe6-41a5-d584-d881bffb1c52"
      },
      "execution_count": 231,
      "outputs": [
        {
          "output_type": "execute_result",
          "data": {
            "text/plain": [
              "['{\"id\":2915,\"name\":\"bulbasaur\",\"account\":{\"id\":3088,\"number\":\"50001_bulbasaur\",\"agency\":\"50001_bulbasaur\",\"balance\":45,\"limit\":49},\"card\":{\"id\":2821,\"number\":\"50001_bulbasaur\",\"limit\":49},\"features\":[],\"news\":[]}',\n",
              " '{\"id\":2916,\"name\":\"ivysaur\",\"account\":{\"id\":3089,\"number\":\"50002_ivysaur\",\"agency\":\"50002_ivysaur\",\"balance\":60,\"limit\":62},\"card\":{\"id\":2822,\"number\":\"50002_ivysaur\",\"limit\":62},\"features\":[],\"news\":[]}',\n",
              " '{\"id\":2917,\"name\":\"venusaur\",\"account\":{\"id\":3090,\"number\":\"50003_venusaur\",\"agency\":\"50003_venusaur\",\"balance\":80,\"limit\":82},\"card\":{\"id\":2823,\"number\":\"50003_venusaur\",\"limit\":82},\"features\":[],\"news\":[]}',\n",
              " '{\"id\":2918,\"name\":\"charmander\",\"account\":{\"id\":3091,\"number\":\"50004_charmander\",\"agency\":\"50004_charmander\",\"balance\":39,\"limit\":52},\"card\":{\"id\":2824,\"number\":\"50004_charmander\",\"limit\":52},\"features\":[],\"news\":[]}',\n",
              " '{\"id\":2919,\"name\":\"charmeleon\",\"account\":{\"id\":3092,\"number\":\"50005_charmeleon\",\"agency\":\"50005_charmeleon\",\"balance\":58,\"limit\":64},\"card\":{\"id\":2825,\"number\":\"50005_charmeleon\",\"limit\":64},\"features\":[],\"news\":[]}',\n",
              " '{\"id\":2920,\"name\":\"charizard\",\"account\":{\"id\":3093,\"number\":\"50006_charizard\",\"agency\":\"50006_charizard\",\"balance\":78,\"limit\":84},\"card\":{\"id\":2826,\"number\":\"50006_charizard\",\"limit\":84},\"features\":[],\"news\":[]}',\n",
              " '{\"id\":2921,\"name\":\"squirtle\",\"account\":{\"id\":3094,\"number\":\"50007_squirtle\",\"agency\":\"50007_squirtle\",\"balance\":44,\"limit\":48},\"card\":{\"id\":2827,\"number\":\"50007_squirtle\",\"limit\":48},\"features\":[],\"news\":[]}',\n",
              " '{\"id\":2922,\"name\":\"wartortle\",\"account\":{\"id\":3095,\"number\":\"50008_wartortle\",\"agency\":\"50008_wartortle\",\"balance\":59,\"limit\":63},\"card\":{\"id\":2828,\"number\":\"50008_wartortle\",\"limit\":63},\"features\":[],\"news\":[]}',\n",
              " '{\"id\":2923,\"name\":\"blastoise\",\"account\":{\"id\":3096,\"number\":\"50009_blastoise\",\"agency\":\"50009_blastoise\",\"balance\":79,\"limit\":83},\"card\":{\"id\":2829,\"number\":\"50009_blastoise\",\"limit\":83},\"features\":[],\"news\":[]}']"
            ]
          },
          "metadata": {},
          "execution_count": 231
        }
      ]
    },
    {
      "cell_type": "code",
      "source": [
        "account_insert = [(account['id'],account['name'],account['account']['id'],account['card']['id'],account['account']['balance']) for i in creation_responses if (account := json.loads(i.text))]"
      ],
      "metadata": {
        "id": "2dBWytTB6W6v"
      },
      "execution_count": 243,
      "outputs": []
    },
    {
      "cell_type": "code",
      "source": [
        "inserted_account = ', '.join([str(account) for account in account_insert])\n",
        "print(inserted_account)"
      ],
      "metadata": {
        "colab": {
          "base_uri": "https://localhost:8080/"
        },
        "id": "QaOy7uOo8DoZ",
        "outputId": "f2580693-bdf6-4f95-80eb-d49fc6a1928f"
      },
      "execution_count": 245,
      "outputs": [
        {
          "output_type": "stream",
          "name": "stdout",
          "text": [
            "(2915, 'bulbasaur', 3088, 2821, 45), (2916, 'ivysaur', 3089, 2822, 60), (2917, 'venusaur', 3090, 2823, 80), (2918, 'charmander', 3091, 2824, 39), (2919, 'charmeleon', 3092, 2825, 58), (2920, 'charizard', 3093, 2826, 78), (2921, 'squirtle', 3094, 2827, 44), (2922, 'wartortle', 3095, 2828, 59), (2923, 'blastoise', 3096, 2829, 79)\n"
          ]
        }
      ]
    },
    {
      "cell_type": "code",
      "source": [
        "cur.execute('''\n",
        "  create table pokemon_accounts (\n",
        "    id int not null,\n",
        "    pokemon string not null,\n",
        "    account_id int not null,\n",
        "    card_id int not null,\n",
        "    hp_balance int not null,\n",
        "    primary key (id)\n",
        "  )\n",
        "  '''\n",
        ")"
      ],
      "metadata": {
        "colab": {
          "base_uri": "https://localhost:8080/"
        },
        "id": "OBSwL-oNrCMo",
        "outputId": "20ffad5c-21e8-4e23-c788-521cc86aa92a"
      },
      "execution_count": 241,
      "outputs": [
        {
          "output_type": "execute_result",
          "data": {
            "text/plain": [
              "<sqlite3.Cursor at 0x7c4d8b8cf9c0>"
            ]
          },
          "metadata": {},
          "execution_count": 241
        }
      ]
    },
    {
      "cell_type": "code",
      "source": [
        "sql_insert = f\"\"\"\n",
        "INSERT INTO pokemon_accounts (id,pokemon,account_id,card_id,hp_balance)\n",
        "VALUES\n",
        "   {inserted_account};\n",
        "\"\"\""
      ],
      "metadata": {
        "id": "YTLcNGTm6vOn"
      },
      "execution_count": 246,
      "outputs": []
    },
    {
      "cell_type": "code",
      "source": [
        "cur.execute(sql_insert)"
      ],
      "metadata": {
        "colab": {
          "base_uri": "https://localhost:8080/"
        },
        "id": "AyaZUDCm8STj",
        "outputId": "09e58abe-7c2f-45e0-d9fd-a97a086aad3a"
      },
      "execution_count": 247,
      "outputs": [
        {
          "output_type": "execute_result",
          "data": {
            "text/plain": [
              "<sqlite3.Cursor at 0x7c4d8b8cf9c0>"
            ]
          },
          "metadata": {},
          "execution_count": 247
        }
      ]
    },
    {
      "cell_type": "code",
      "source": [
        "[row for row in cur.execute('select * from pokemon_accounts')]"
      ],
      "metadata": {
        "colab": {
          "base_uri": "https://localhost:8080/"
        },
        "id": "qHGOUPz08Wg_",
        "outputId": "6cf21534-51c1-4cbd-dc41-1dcb9000963a"
      },
      "execution_count": 248,
      "outputs": [
        {
          "output_type": "execute_result",
          "data": {
            "text/plain": [
              "[(2915, 'bulbasaur', 3088, 2821, 45),\n",
              " (2916, 'ivysaur', 3089, 2822, 60),\n",
              " (2917, 'venusaur', 3090, 2823, 80),\n",
              " (2918, 'charmander', 3091, 2824, 39),\n",
              " (2919, 'charmeleon', 3092, 2825, 58),\n",
              " (2920, 'charizard', 3093, 2826, 78),\n",
              " (2921, 'squirtle', 3094, 2827, 44),\n",
              " (2922, 'wartortle', 3095, 2828, 59),\n",
              " (2923, 'blastoise', 3096, 2829, 79)]"
            ]
          },
          "metadata": {},
          "execution_count": 248
        }
      ]
    },
    {
      "cell_type": "markdown",
      "source": [
        "**Battle system**"
      ],
      "metadata": {
        "id": "T-n1XmpG8ZvI"
      }
    },
    {
      "cell_type": "code",
      "source": [
        "def update_pokemon(accounts: list, first_pokemon: int, second_pokemon: int):\n",
        "  if accounts[first_pokemon][5] > accounts[second_pokemon][5]:\n",
        "    news = f\"{accounts[first_pokemon][1]} ganhou contra {accounts[second_pokemon][1]}, {accounts[second_pokemon][1]} perde {match_points} pontos do seu saldo!\"\n",
        "    account_number = accounts[second_pokemon][0]\n",
        "    pokemon = accounts[second_pokemon]\n",
        "  else:\n",
        "    news = f\"{accounts[second_pokemon][1]} ganhou contra {accounts[first_pokemon][1]}, {accounts[first_pokemon][1]} perde {match_points} pontos do seu saldo!\"\n",
        "    account_number = accounts[first_pokemon][0]\n",
        "    pokemon = accounts[first_pokemon]\n",
        "\n",
        "  print(news)\n",
        "  print(f\"Account to be updated {account_number}\")\n",
        "\n",
        "  update_request = json.loads(requests.get(f\"{sdw2023_api_url}/users/{account_number}\").text)\n",
        "\n",
        "  update_request['news'].append(\n",
        "    {\n",
        "      \"id\": 0,\n",
        "      \"icon\": \"a\",\n",
        "      \"description\": news\n",
        "    }\n",
        "  )\n",
        "  if update_request['account']['balance'] - match_points > 0:\n",
        "    update_request['account']['balance'] -= match_points\n",
        "  else:\n",
        "    update_request['account']['balance'] = 0\n",
        "    update_request['news'].append(\n",
        "        {\n",
        "        \"id\": 0,\n",
        "        \"icon\": \"a\",\n",
        "        \"description\": f\"{update_request['name']} desmaiou!\"\n",
        "      }\n",
        "\n",
        "    )\n",
        "\n",
        "  print(update_request)\n",
        "\n",
        "  return requests.put(\n",
        "    f\"{sdw2023_api_url}/users/{account_number}\",\n",
        "    headers={'accept':'*/*','Content-Type':'application/json'},\n",
        "    data=json.dumps(update_request)\n",
        "  )"
      ],
      "metadata": {
        "id": "yP8NPyPeZ5XN"
      },
      "execution_count": 346,
      "outputs": []
    },
    {
      "cell_type": "code",
      "source": [
        "import random\n",
        "\n",
        "match_points = 5\n",
        "\n",
        "accounts = [\n",
        "    row\n",
        "    for row in cur.execute(\n",
        "        '''\n",
        "          select\n",
        "            pa.*,\n",
        "            p.attack\n",
        "          from\n",
        "            pokemon_accounts pa join pokemons p on pa.pokemon = p.name\n",
        "        '''\n",
        "    )\n",
        "]\n",
        "#print(accounts)\n",
        "\n",
        "first_pokemon = random.randint(0, 8)\n",
        "second_pokemon = random.randint(0, 8)\n",
        "\n",
        "while first_pokemon == second_pokemon:\n",
        "  second_pokemon = random.randint(0, 8)\n",
        "\n",
        "print(first_pokemon, second_pokemon)\n",
        "\n",
        "result = update_pokemon(accounts, first_pokemon, second_pokemon)\n",
        "\n",
        "print(result.status_code, result.text)"
      ],
      "metadata": {
        "colab": {
          "base_uri": "https://localhost:8080/"
        },
        "id": "VRiwPIYq8dd_",
        "outputId": "c5b51d20-ff7f-4638-d433-9bf292ab7d19"
      },
      "execution_count": 382,
      "outputs": [
        {
          "output_type": "stream",
          "name": "stdout",
          "text": [
            "6 3\n",
            "charmander ganhou contra squirtle, squirtle perde 5 pontos do seu saldo!\n",
            "Account to be updated 2921\n",
            "{'id': 2921, 'name': 'squirtle', 'account': {'id': 3094, 'number': '50007_squirtle', 'agency': '50007_squirtle', 'balance': 0, 'limit': 48.0}, 'card': {'id': 2827, 'number': '50007_squirtle', 'limit': 48.0}, 'features': [], 'news': [{'id': 5854, 'icon': 'a', 'description': 'wartortle ganhou contra squirtle, squirtle perde 5 pontos do seu saldo!'}, {'id': 5857, 'icon': 'a', 'description': 'bulbasaur ganhou contra squirtle, squirtle perde 5 pontos do seu saldo!'}, {'id': 5859, 'icon': 'a', 'description': 'wartortle ganhou contra squirtle, squirtle perde 5 pontos do seu saldo!'}, {'id': 5860, 'icon': 'a', 'description': 'venusaur ganhou contra squirtle, squirtle perde 5 pontos do seu saldo!'}, {'id': 5862, 'icon': 'a', 'description': 'wartortle ganhou contra squirtle, squirtle perde 5 pontos do seu saldo!'}, {'id': 5868, 'icon': 'a', 'description': 'charizard ganhou contra squirtle, squirtle perde 5 pontos do seu saldo!'}, {'id': 5874, 'icon': 'a', 'description': 'charmeleon ganhou contra squirtle, squirtle perde 5 pontos do seu saldo!'}, {'id': 5888, 'icon': 'a', 'description': 'venusaur ganhou contra squirtle, squirtle perde 5 pontos do seu saldo!'}, {'id': 0, 'icon': 'a', 'description': 'charmander ganhou contra squirtle, squirtle perde 5 pontos do seu saldo!'}, {'id': 0, 'icon': 'a', 'description': 'squirtle desmaiou!'}]}\n",
            "200 {\"id\":2921,\"name\":\"squirtle\",\"account\":{\"id\":3094,\"number\":\"50007_squirtle\",\"agency\":\"50007_squirtle\",\"balance\":0,\"limit\":48.0},\"card\":{\"id\":2827,\"number\":\"50007_squirtle\",\"limit\":48.0},\"features\":[],\"news\":[{\"id\":5854,\"icon\":\"a\",\"description\":\"wartortle ganhou contra squirtle, squirtle perde 5 pontos do seu saldo!\"},{\"id\":5857,\"icon\":\"a\",\"description\":\"bulbasaur ganhou contra squirtle, squirtle perde 5 pontos do seu saldo!\"},{\"id\":5859,\"icon\":\"a\",\"description\":\"wartortle ganhou contra squirtle, squirtle perde 5 pontos do seu saldo!\"},{\"id\":5860,\"icon\":\"a\",\"description\":\"venusaur ganhou contra squirtle, squirtle perde 5 pontos do seu saldo!\"},{\"id\":5862,\"icon\":\"a\",\"description\":\"wartortle ganhou contra squirtle, squirtle perde 5 pontos do seu saldo!\"},{\"id\":5868,\"icon\":\"a\",\"description\":\"charizard ganhou contra squirtle, squirtle perde 5 pontos do seu saldo!\"},{\"id\":5874,\"icon\":\"a\",\"description\":\"charmeleon ganhou contra squirtle, squirtle perde 5 pontos do seu saldo!\"},{\"id\":5888,\"icon\":\"a\",\"description\":\"venusaur ganhou contra squirtle, squirtle perde 5 pontos do seu saldo!\"},{\"id\":5890,\"icon\":\"a\",\"description\":\"charmander ganhou contra squirtle, squirtle perde 5 pontos do seu saldo!\"},{\"id\":5891,\"icon\":\"a\",\"description\":\"squirtle desmaiou!\"}]}\n"
          ]
        }
      ]
    }
  ]
}